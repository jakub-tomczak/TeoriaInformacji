{
 "cells": [
  {
   "cell_type": "code",
   "execution_count": 131,
   "metadata": {},
   "outputs": [
    {
     "name": "stdout",
     "output_type": "stream",
     "text": [
      "śr. 27.222354104846687\n"
     ]
    }
   ],
   "source": [
    "#zadanie 1\n",
    "from random import random\n",
    "alfabet = 'ABCDEFGHIJKLMNOPQRSTUVWXYZ '\n",
    "generated = ''\n",
    "for i in range(1000000):\n",
    "    generated += alfabet[(int)(random()*len(alfabet))]\n",
    "#print(generated)\n",
    "\n",
    "print(\"śr. {sr}\".format(sr = srednia_liczba_liter(generated)))\n",
    "\n"
   ]
  },
  {
   "cell_type": "code",
   "execution_count": 244,
   "metadata": {},
   "outputs": [],
   "source": [
    "def srednia_liczba_liter(text):\n",
    "    #splitted = text.split(' ')\n",
    "    import re\n",
    "    REGEX = r'[A-Z]+' \n",
    "    sum = 0\n",
    "    words = 0\n",
    "    for i in splitted:\n",
    "        if re.search(REGEX, i):\n",
    "                sum += len(i)\n",
    "                words += 1\n",
    "    return sum / words"
   ]
  },
  {
   "cell_type": "code",
   "execution_count": 176,
   "metadata": {
    "scrolled": false
   },
   "outputs": [
    {
     "name": "stdout",
     "output_type": "stream",
     "text": [
      "[(' ', 37805), ('e', 21370), ('t', 17703), ('o', 16189), ('a', 14708), ('h', 13398), ('i', 13014), ('s', 12657), ('n', 12129), ('r', 10511), ('l', 8454), ('d', 7186), ('u', 6472), ('m', 5701), ('y', 5099), ('w', 4593), ('c', 4042), ('f', 3796), ('g', 3432), ('b', 3017), ('p', 2424), ('v', 1872), ('k', 992), ('j', 261), ('x', 168), ('q', 95), ('z', 43), ('1', 21), ('2', 11), ('3', 3)]\n"
     ]
    }
   ],
   "source": [
    "#zadanie 2\n",
    "import operator\n",
    "import collections\n",
    "word = \"\"\n",
    "sum = 0\n",
    "words = 0\n",
    "count = {}\n",
    "\n",
    "with open('norm_romeo_and_juliet.txt') as f: \n",
    "    for line in f: \n",
    "        sum += len(line)\n",
    "        words += 1\n",
    "        for s in line:\n",
    "          if s in count:\n",
    "            count[s] += 1\n",
    "          else:\n",
    "            count[s] = 1\n",
    "\n",
    "sorted_x = sorted(count.items(), key=operator.itemgetter(1))\n"
   ]
  },
  {
   "cell_type": "code",
   "execution_count": 234,
   "metadata": {},
   "outputs": [
    {
     "name": "stdout",
     "output_type": "stream",
     "text": [
      "[('3', 3), ('2', 11), ('1', 21), ('z', 43), ('q', 95), ('x', 168), ('j', 261), ('k', 992), ('v', 1872), ('p', 2424), ('b', 3017), ('g', 3432), ('f', 3796), ('c', 4042), ('w', 4593), ('y', 5099), ('m', 5701), ('u', 6472), ('d', 7186), ('l', 8454), ('r', 10511), ('n', 12129), ('s', 12657), ('i', 13014), ('h', 13398), ('a', 14708), ('o', 16189), ('t', 17703), ('e', 21370), (' ', 37805)]\n"
     ]
    }
   ],
   "source": [
    "#przygotowanie struktury dla generatora z prawdopodobienstwem\n",
    "values = [(sorted_x[i][0], sorted_x[i][1] + (sorted_x[i-1][1] if i > 0 else 0) ) for i in range(0, len(sorted_x))]\n",
    "print(values)\n",
    "values_max = 0\n",
    "for i in values:\n",
    "    if i[1] > values_max:\n",
    "        values_max = i[1]"
   ]
  },
  {
   "cell_type": "code",
   "execution_count": 241,
   "metadata": {},
   "outputs": [],
   "source": [
    "def pobierz_losowa_litere_prawdo():\n",
    "    liczba = (int)(random()*values_max)\n",
    "    for record in values:\n",
    "        if record[1] > liczba:\n",
    "            return record[0]"
   ]
  },
  {
   "cell_type": "code",
   "execution_count": 245,
   "metadata": {
    "scrolled": true
   },
   "outputs": [
    {
     "name": "stdout",
     "output_type": "stream",
     "text": [
      " eyl   rel x i bhqgx eer n       m u evnerlvoaeieb dvo  kt    r esl t r vannevdaen  rk t  t  gth    dv   ee     kc   oe  eg ee nw monoe    s k a t rpmlbl  d reoa u  nrkeaowtcre   lekao     t vea  j enty l n  e rc    ln   t ov   a p n l dymhr   v u odsmn eranr vm p p uekce v gedo t ol nwre elf e    r  rg  v eo  pege o   nnw    uo   l o ph  nv rotk e r t ko ey e gxenn   v   y rruevhmonab   o    l tbt  tse g    le  n d  rw y    eo   dybr oe  n     suf mbv  l  eehg  e edw t o s    ur eiormll   nae  kei l am   l   ek  vc t tet   e e gbr  n ualk  m w a ungd  d lo  v   rngx rel    lertltrin en fa no     b  prnan  c  ow  t e y e   htpk s  br a v rtdaoant rlelul nme e v o   k tvo ng fe e  l  nx oknee kok  ua  pavny   tl    r   d    m     gr  t eai1et    mn   e   ewea tarnrrv  u  eo ef      o  o oe ee  t l t   a e e bnce        a    eb g  crte  nena elrefo he  vtar  rtosr vut   o  ld   e   em ne h eee   pe    bteo em tfedr  ea   odrtt lrxk e    auvkm pfp wyr     l jtral v re   qn  er eareeve   s\n",
      "27.028289972215205\n"
     ]
    }
   ],
   "source": [
    "#generator z prawdopodobienstwem\n",
    "generated = ''\n",
    "for i in range(1000):\n",
    "    generated+=(pobierz_losowa_litere_prawdo())\n",
    "print(generated)\n",
    "print(srednia_liczba_liter(generated))"
   ]
  },
  {
   "cell_type": "code",
   "execution_count": 82,
   "metadata": {},
   "outputs": [
    {
     "name": "stdout",
     "output_type": "stream",
     "text": [
      "[0.09469864659752086, 0.06570958765494561, 0.0005138502403238047, 0.0008142549962054136, 0.00023716164938021757, 0.06227074373893245, 0.04679199342271692, 0.030530609663546673, 0.020182456362256514, 0.020127118644067795, 2.3716164938021755e-05, 0.026277510751328104, 0.050966038451808755, 0.20416455856311663, 0.01095686820136605, 0.001249051353402479, 0.03630154313179863, 0.049092461421705036, 6.324310650139134e-05, 0.015771249683784468, 0.07423950164432076, 0.01618232987604351, 0.006593093852770048, 0.014237604351125727, 0.024886162408297496, 0.05400170756387554, 0.008205793068555527, 0.00010277004806476095, 0.051914685049329626, 0.012893688337971162]\n"
     ]
    }
   ],
   "source": [
    "suma = 0\n",
    "znaki = count\n",
    "for i in count.values():\n",
    "    suma += i\n",
    "freq  = [count[i] / suma for i in count.keys()]\n"
   ]
  }
 ],
 "metadata": {
  "kernelspec": {
   "display_name": "Python 3",
   "language": "python",
   "name": "python3"
  },
  "language_info": {
   "codemirror_mode": {
    "name": "ipython",
    "version": 3
   },
   "file_extension": ".py",
   "mimetype": "text/x-python",
   "name": "python",
   "nbconvert_exporter": "python",
   "pygments_lexer": "ipython3",
   "version": "3.5.4"
  }
 },
 "nbformat": 4,
 "nbformat_minor": 2
}
